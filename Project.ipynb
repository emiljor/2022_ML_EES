{
  "nbformat": 4,
  "nbformat_minor": 0,
  "metadata": {
    "colab": {
      "provenance": [],
      "authorship_tag": "ABX9TyPvr2wWaFQ8SYHMA/apjBZf",
      "include_colab_link": true
    },
    "kernelspec": {
      "name": "python3",
      "display_name": "Python 3"
    },
    "language_info": {
      "name": "python"
    }
  },
  "cells": [
    {
      "cell_type": "markdown",
      "metadata": {
        "id": "view-in-github",
        "colab_type": "text"
      },
      "source": [
        "<a href=\"https://colab.research.google.com/github/emiljor/2022_ML_EES/blob/main/Project.ipynb\" target=\"_parent\"><img src=\"https://colab.research.google.com/assets/colab-badge.svg\" alt=\"Open In Colab\"/></a>"
      ]
    },
    {
      "cell_type": "markdown",
      "source": [
        "Setup"
      ],
      "metadata": {
        "id": "CgZFVXCjobj0"
      }
    },
    {
      "cell_type": "code",
      "execution_count": 1,
      "metadata": {
        "id": "Hzb2_YfcUrvY"
      },
      "outputs": [],
      "source": [
        "import pandas as pd\n",
        "import numpy as np\n",
        "import matplotlib.pyplot as plt\n",
        "\n",
        "import sklearn \n",
        "from sklearn.linear_model import LogisticRegression\n",
        "from sklearn.preprocessing import OneHotEncoder\n",
        "from sklearn.model_selection import train_test_split\n",
        "from sklearn.ensemble import GradientBoostingClassifier\n",
        "from sklearn.metrics import accuracy_score \n",
        "from sklearn.metrics import mean_squared_error\n",
        "from sklearn.metrics import confusion_matrix, ConfusionMatrixDisplay\n",
        "from sklearn.model_selection import cross_val_score\n",
        "from sklearn.feature_selection import RFECV\n",
        "\n",
        "# import cv2\n",
        "import time\n",
        "\n",
        "# from PIL import Image\n",
        "\n",
        "\n",
        "rnd_seed = 42\n",
        "rnd_gen = np.random.default_rng(rnd_seed)"
      ]
    },
    {
      "cell_type": "markdown",
      "source": [
        "Data"
      ],
      "metadata": {
        "id": "76u9zghpoS57"
      }
    },
    {
      "cell_type": "code",
      "source": [
        "df = pd.read_csv('Landslides.csv')\n",
        "\n",
        "listofindex = ['dist_roads','DEM','TWI','plan_curvature','profil_curvature','Slope','Geology','LandCover','LS']\n",
        "\n",
        "enc = OneHotEncoder(sparse=False) #One hot encoding for converting the columns with categorical values into seperate columns with binary values\n",
        "\n",
        "\n",
        "geology= enc.fit_transform(df[['Geology']]) #Fits and transforms the dataframe coloum into multiple columns of 0 and 1\n",
        "landcover = enc.fit_transform(df[['LandCover']]) #Fits and transforms the dataframe coloum into multiple columns of 0 and 1\n",
        "\n",
        "geology_tranform = pd.DataFrame(geology) #transfor the array into a DataFrame\n",
        "landcover_tranform = pd.DataFrame(landcover) #transfor the array into a DataFrame\n",
        "\n",
        "geology_tranform= geology_tranform.add_prefix('g_') #Changes the prefix of the coloum into the specified one\n",
        "landcover_tranform= landcover_tranform.add_prefix('lc_') #Changes the prefix of the coloum into the specified one\n",
        "\n",
        "y = df['LS']\n",
        "print(df['LS'].value_counts())\n",
        " #Removes the geology and Landcover coloums from the inputs dataframe since they are added as multiple colus of 0 and 1\n",
        "X_temp = pd.DataFrame(df.drop(['Geology','LandCover','LS'],axis = 1)) #Defines the inputs_df as df and  a DataFrame and Removes the geology and Landcover coloums from the inputs dataframe since they are added as multiple colus of 0 and 1\n",
        "X= X_temp.join(geology_tranform).join(landcover_tranform) #Adds the geology 0 and 1 colouns to the inputs_df\n",
        "\n",
        "\n",
        "time0 = time.time()\n",
        "\n",
        "\n",
        "X_train, X_test, y_train, y_test = train_test_split(X, y, test_size=0.33, random_state=rnd_seed)"
      ],
      "metadata": {
        "colab": {
          "base_uri": "https://localhost:8080/"
        },
        "id": "Izyweza8oRel",
        "outputId": "2bb51593-4cb2-4470-8e00-7df08a4bb543"
      },
      "execution_count": 4,
      "outputs": [
        {
          "output_type": "stream",
          "name": "stdout",
          "text": [
            "1    2594\n",
            "0    2591\n",
            "Name: LS, dtype: int64\n"
          ]
        }
      ]
    },
    {
      "cell_type": "markdown",
      "source": [
        "Logistic regression"
      ],
      "metadata": {
        "id": "pgtIXuFSH5JW"
      }
    },
    {
      "cell_type": "code",
      "source": [
        "lr = LogisticRegression(max_iter=500)\n",
        "lr.fit(X_train,y_train)\n",
        "lr_pred= lr.predict(X_test)\n",
        "\n",
        "#Confusion matrix\n",
        "cm=confusion_matrix(y_test, lr_pred, normalize='pred') # Get a confusion matrix 'cm', use 'pred' for the normalize option\n",
        "disp = ConfusionMatrixDisplay(confusion_matrix = cm) # Use ConfusionMatrixDisplay to visualize 'cm'\n",
        "\n",
        "print(\"Accuracy:\",accuracy_score(y_test, lr_pred))\n",
        "print(\"RMSE:\", mean_squared_error(y_test, lr_pred, squared=False))\n",
        "print(\"Confusion matrix:\", )\n",
        "disp.plot()\n",
        "lr_proba =lr.predict_proba(X_test)"
      ],
      "metadata": {
        "colab": {
          "base_uri": "https://localhost:8080/",
          "height": 331
        },
        "id": "K0EktHhXH2pF",
        "outputId": "5149044f-dabd-417a-b808-6647d461d9eb"
      },
      "execution_count": 5,
      "outputs": [
        {
          "output_type": "stream",
          "name": "stdout",
          "text": [
            "Accuracy: 0.8060747663551402\n",
            "RMSE: 0.4403694285992839\n",
            "Confusion matrix:\n"
          ]
        },
        {
          "output_type": "display_data",
          "data": {
            "text/plain": [
              "<Figure size 432x288 with 2 Axes>"
            ],
            "image/png": "[encoded data removed]"
          },
          "metadata": {
            "needs_background": "light"
          }
        }
      ]
    },
    {
      "cell_type": "markdown",
      "source": [
        "Gradient boosting classifier"
      ],
      "metadata": {
        "id": "QJLRn1t0ICWZ"
      }
    },
    {
      "cell_type": "code",
      "source": [
        "gbc = GradientBoostingClassifier()\n",
        "gbc.fit(X_train,y_train)\n",
        "gbc_pred = gbc.predict(X_test) \n",
        "\n",
        "print(\"Accuracy:\",accuracy_score(y_test, lr_pred))\n",
        "print(\"RMSE:\", mean_squared_error(y_test, lr_pred, squared=False))\n",
        "print(\"Confusion matrix:\")\n",
        "cm=confusion_matrix(y_test, gbc_pred, normalize='pred') # Get a confusion matrix 'cm', use 'pred' for the normalize option\n",
        "disp = ConfusionMatrixDisplay(confusion_matrix = cm) # Use ConfusionMatrixDisplay to visualize 'cm'\n",
        "disp.plot()\n",
        "\n",
        "\n",
        "gbc_proba = gbc.predict_proba(X_test)\n"
      ],
      "metadata": {
        "colab": {
          "base_uri": "https://localhost:8080/",
          "height": 331
        },
        "id": "2hmhRoF0IHWs",
        "outputId": "0d4b6cae-673c-4d1d-84c0-7129f466436d"
      },
      "execution_count": 8,
      "outputs": [
        {
          "output_type": "stream",
          "name": "stdout",
          "text": [
            "Accuracy: 0.8060747663551402\n",
            "RMSE: 0.4403694285992839\n",
            "Confusion matrix:\n"
          ]
        },
        {
          "output_type": "display_data",
          "data": {
            "text/plain": [
              "<Figure size 432x288 with 2 Axes>"
            ],
            "image/png": "[encoded data removed]"
          },
          "metadata": {
            "needs_background": "light"
          }
        }
      ]
    },
    {
      "cell_type": "markdown",
      "source": [
        "Producing susceptibility map with initial features"
      ],
      "metadata": {
        "id": "yGVdGtyrIpAq"
      }
    },
    {
      "cell_type": "code",
      "source": [
        "DEM = cv2.imread('/Users/hakonvikesa/Documents/Machine learning/drive-download-20221202T084038Z-001/DEM.tif',-1)\n",
        "distance_road = cv2.imread('/Users/hakonvikesa/Documents/Machine learning/drive-download-20221202T084038Z-001/dist_roads.tif',-1)\n",
        "geology = Image.open('/Users/hakonvikesa/Documents/Machine learning/drive-download-20221202T084038Z-001/Geology.tif')\n",
        "landcover = cv2.imread('/Users/hakonvikesa/Documents/Machine learning/drive-download-20221202T084038Z-001/LandCover.tif',-1)\n",
        "plan_curvature = cv2.imread('/Users/hakonvikesa/Documents/Machine learning/drive-download-20221202T084038Z-001/plan_curvature.tif',-1)\n",
        "profile_curvature = cv2.imread('/Users/hakonvikesa/Documents/Machine learning/drive-download-20221202T084038Z-001/profil_curvature.tif',-1)\n",
        "slope = cv2.imread('/Users/hakonvikesa/Documents/Machine learning/drive-download-20221202T084038Z-001/Slope.tif',-1)\n",
        "TWI = cv2.imread('/Users/hakonvikesa/Documents/Machine learning/drive-download-20221202T084038Z-001/TWI.tif',-1)"
      ],
      "metadata": {
        "id": "d4KnybquIoTY"
      },
      "execution_count": null,
      "outputs": []
    },
    {
      "cell_type": "markdown",
      "source": [
        "Feature selection"
      ],
      "metadata": {
        "id": "25qAcBN-IfLo"
      }
    },
    {
      "cell_type": "code",
      "source": [
        "#Feature selection for å definere de viktigste featurene for at disse brukes i til kartleggingen senere. Statistikk for å vise de beste featurene, confusion matrixen.\n",
        "# 1. Variance Threshold Feature Selection. Useful for unsupervised modelling. The dataset is labeled and a supervised modell is most likely going to be used. \n",
        "# 2. Univariate Feature Selection with SelectKBest.\n",
        "#    Univariate Feature Selection is a feature selection method based on the univariate statistical test, e,g: chi2, Pearson-correlation\n",
        "# 3. Recursive Feature Elimination (RFE)\n",
        "# 4. Feature Selection via SelectFromModel\n",
        "# 5. Feature Selection Sequential Feature Selection (SFS)\n",
        "# Determine the K best features and see how it changes the map compared to the no feature selection\n",
        "#opt_n_features = sklearn.feature_selection.RFECV()\n",
        "#sel_K_best = sklearn.feature_selection.SelectKBest()#chi2, k=2\n",
        "#new_X =sel_K_best.fit_transform()#X, y)\n",
        "# Successively reduce/change the attribute sets and investigate the changes in the classification results.\n",
        "# Do i have to train a new modell for each set of parameters"
      ],
      "metadata": {
        "id": "sSoxcFhHIedB"
      },
      "execution_count": null,
      "outputs": []
    }
  ]
}